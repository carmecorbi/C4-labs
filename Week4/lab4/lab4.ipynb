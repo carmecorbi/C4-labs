{
 "cells": [
  {
   "cell_type": "code",
   "execution_count": 2,
   "id": "daa4daf0-04ce-4fe8-8780-46e09d239f06",
   "metadata": {},
   "outputs": [
    {
     "ename": "ModuleNotFoundError",
     "evalue": "No module named 'open3d'",
     "output_type": "error",
     "traceback": [
      "\u001b[1;31m---------------------------------------------------------------------------\u001b[0m",
      "\u001b[1;31mModuleNotFoundError\u001b[0m                       Traceback (most recent call last)",
      "Cell \u001b[1;32mIn[2], line 6\u001b[0m\n\u001b[0;32m      3\u001b[0m \u001b[38;5;28;01mfrom\u001b[39;00m \u001b[38;5;21;01mmatplotlib\u001b[39;00m \u001b[38;5;28;01mimport\u001b[39;00m pyplot \u001b[38;5;28;01mas\u001b[39;00m plt\n\u001b[0;32m      4\u001b[0m \u001b[38;5;28;01mimport\u001b[39;00m \u001b[38;5;21;01mnumpy\u001b[39;00m \u001b[38;5;28;01mas\u001b[39;00m \u001b[38;5;21;01mnp\u001b[39;00m\n\u001b[1;32m----> 6\u001b[0m \u001b[38;5;28;01mfrom\u001b[39;00m \u001b[38;5;21;01mvisualize_model\u001b[39;00m \u001b[38;5;28;01mimport\u001b[39;00m Model\n\u001b[0;32m      7\u001b[0m \u001b[38;5;28;01mfrom\u001b[39;00m \u001b[38;5;21;01mdatabase\u001b[39;00m \u001b[38;5;28;01mimport\u001b[39;00m blob_to_array, pair_id_to_image_ids\n",
      "File \u001b[1;32mc:\\Users\\34634\\Downloads\\C4-labs\\Week4\\lab4\\visualize_model.py:32\u001b[0m\n\u001b[0;32m     30\u001b[0m \u001b[38;5;28;01mimport\u001b[39;00m \u001b[38;5;21;01margparse\u001b[39;00m\n\u001b[0;32m     31\u001b[0m \u001b[38;5;28;01mimport\u001b[39;00m \u001b[38;5;21;01mnumpy\u001b[39;00m \u001b[38;5;28;01mas\u001b[39;00m \u001b[38;5;21;01mnp\u001b[39;00m\n\u001b[1;32m---> 32\u001b[0m \u001b[38;5;28;01mimport\u001b[39;00m \u001b[38;5;21;01mopen3d\u001b[39;00m\n\u001b[0;32m     34\u001b[0m \u001b[38;5;28;01mfrom\u001b[39;00m \u001b[38;5;21;01mread_write_model\u001b[39;00m \u001b[38;5;28;01mimport\u001b[39;00m read_model, write_model, qvec2rotmat, rotmat2qvec\n\u001b[0;32m     37\u001b[0m \u001b[38;5;28;01mclass\u001b[39;00m \u001b[38;5;21;01mModel\u001b[39;00m:\n",
      "\u001b[1;31mModuleNotFoundError\u001b[0m: No module named 'open3d'"
     ]
    }
   ],
   "source": [
    "import cv2\n",
    "import sqlite3\n",
    "from matplotlib import pyplot as plt\n",
    "import numpy as np\n",
    "\n",
    "from visualize_model import Model\n",
    "from database import blob_to_array, pair_id_to_image_ids"
   ]
  },
  {
   "cell_type": "markdown",
   "id": "25bfed4a-95ed-4c25-ae03-dfa1be34bfa4",
   "metadata": {},
   "source": [
    "# 1. 3D mesh reconstruction from a set of images from the Gerrard Hall dataset.\n",
    "Install Colmap and run the automatic reconstruction on the Gerrard Hall dataset"
   ]
  },
  {
   "cell_type": "markdown",
   "id": "19c31494-3050-4951-aed1-b463f3fba821",
   "metadata": {},
   "source": [
    "# 2. Analyze reconstructions using python\n",
    "## 2.1. Run the notebook, using the Gerrard Hall reconstruction (0.5)\n",
    "#### <span style='color:Green'> - Add the path to your reconstruction. Answer the questions at the end  </span>"
   ]
  },
  {
   "cell_type": "code",
   "execution_count": null,
   "id": "41796fd2-2304-487f-a74c-3f1a51ad83f6",
   "metadata": {},
   "outputs": [],
   "source": [
    "# Add your path\n",
    "reconstruction_path = \"./gerrard_hall\"\n",
    "database_path = \"./gerrard_hall/database.db\""
   ]
  },
  {
   "cell_type": "markdown",
   "id": "2a701bb3-945a-434c-880c-849dad97a97d",
   "metadata": {},
   "source": [
    "#### Load an existing reconstruction and print its contents"
   ]
  },
  {
   "cell_type": "code",
   "execution_count": null,
   "id": "bf644962-ba41-403f-a1a4-3e1b08d16151",
   "metadata": {},
   "outputs": [],
   "source": [
    "model = Model()\n",
    "model.read_model(reconstruction_path, ext='.bin') # Should also work with .txt"
   ]
  },
  {
   "cell_type": "code",
   "execution_count": null,
   "id": "b629e852-0407-4eff-ba62-b9d1d51015bd",
   "metadata": {},
   "outputs": [],
   "source": [
    "images = model.images\n",
    "cameras = model.cameras\n",
    "points3D = model.points3D"
   ]
  },
  {
   "cell_type": "code",
   "execution_count": null,
   "id": "ca47fb58-dbcd-4c6f-8168-e296832aacf5",
   "metadata": {
    "tags": []
   },
   "outputs": [],
   "source": [
    "print(f\"Loaded {len(images)} images. This is the information available for one of them:\")\n",
    "print(images[1])\n",
    "print(f\"\\nLoaded {len(cameras)} cameras. This is the information available for one of them:\")\n",
    "print(cameras[1])\n",
    "print(f\"\\nLoaded {len(points3D)} 3D points. This is the information available for one of them:\")\n",
    "print(points3D[1])"
   ]
  },
  {
   "cell_type": "markdown",
   "id": "1ce97039-6c3e-40e9-af81-e0795fc5b41a",
   "metadata": {
    "tags": []
   },
   "source": [
    "#### Load the database"
   ]
  },
  {
   "cell_type": "code",
   "execution_count": null,
   "id": "b74d1dde-024f-47b6-85cc-99f0801f414c",
   "metadata": {},
   "outputs": [],
   "source": [
    "db = sqlite3.connect(database_path)"
   ]
  },
  {
   "cell_type": "code",
   "execution_count": null,
   "id": "bc6ff5d3-a33f-41f5-882d-d370bf3dd489",
   "metadata": {},
   "outputs": [],
   "source": [
    "keypoints = dict(\n",
    "        (image_id, blob_to_array(data, np.float32, (-1, 2)))\n",
    "        for image_id, data in db.execute(\n",
    "            \"SELECT image_id, data FROM keypoints\"))"
   ]
  },
  {
   "cell_type": "code",
   "execution_count": null,
   "id": "c843a569-d812-4bfe-8f61-e68cc9d9dfbe",
   "metadata": {},
   "outputs": [],
   "source": [
    "print(f\"Loaded keypoints from {len(keypoints)} images. These are the {len(keypoints[1])} keypoints for one of them:\")\n",
    "print(keypoints[1])"
   ]
  },
  {
   "cell_type": "code",
   "execution_count": null,
   "id": "27f31f2a-d3b3-48af-b0cc-1276f5cfe177",
   "metadata": {},
   "outputs": [],
   "source": [
    "matches = dict()\n",
    "count_no_data = 0\n",
    "for pair_id, data in db.execute(\"SELECT pair_id, data FROM matches\"):\n",
    "    if data is None:\n",
    "        count_no_data += 1\n",
    "    else:\n",
    "        matches[pair_id_to_image_ids(pair_id)] = blob_to_array(data, np.uint32, (-1, 2))\n",
    "print(f\"Loaded {len(matches)} matches. {count_no_data}/{len(matches)+count_no_data} matches contained no data\")"
   ]
  },
  {
   "cell_type": "code",
   "execution_count": null,
   "id": "aa07761b-eaec-488d-b1e9-36720e203a31",
   "metadata": {},
   "outputs": [],
   "source": [
    "print(\"These are the matches between two images:\")\n",
    "print(matches[1,2])"
   ]
  },
  {
   "cell_type": "markdown",
   "id": "a12c0675-6841-4519-b79f-cc2b811b94fd",
   "metadata": {},
   "source": [
    "#### Visualize the point cloud and cameras"
   ]
  },
  {
   "cell_type": "code",
   "execution_count": null,
   "id": "fb95e07c-b1d6-4f08-8842-8fc41b676a10",
   "metadata": {},
   "outputs": [],
   "source": [
    "model.create_window()\n",
    "model.add_points()\n",
    "model.add_cameras(scale=0.25)\n",
    "model.show()"
   ]
  },
  {
   "cell_type": "markdown",
   "id": "03d5e272-83de-4136-b047-885051bd7e78",
   "metadata": {},
   "source": [
    "#### <span style='color:Green'>  How many keypoints there are in total? </span> "
   ]
  },
  {
   "cell_type": "markdown",
   "id": "e7c13142-d04b-4f48-9b28-5e78b9c72a8b",
   "metadata": {},
   "source": [
    "#### <span style='color:Green'>  How many 3D points originated from a keypoint in the first image? </span>\n"
   ]
  },
  {
   "cell_type": "markdown",
   "id": "075a83ca-0ad4-493f-a7b7-9e11ae8153c0",
   "metadata": {},
   "source": [
    "## 2.2 Plot the 3D points coloured according to the number of images and error. (0.5)"
   ]
  },
  {
   "cell_type": "markdown",
   "id": "6803fb41-cb01-43c2-9853-9f4458640a75",
   "metadata": {},
   "source": [
    "#### <span style='color:Green'> - Plot the 3D points coloured according to the **number of images** from which it originated. </span> Can you extract any conclusions from the visualization? "
   ]
  },
  {
   "cell_type": "code",
   "execution_count": null,
   "id": "22d55db2-d7b4-4eda-91c2-8b2001fbf6e4",
   "metadata": {},
   "outputs": [],
   "source": [
    "### TO DO 2.2"
   ]
  },
  {
   "cell_type": "markdown",
   "id": "a9ba4033-e370-45e0-9dcd-2964d3c5763a",
   "metadata": {},
   "source": [
    "#### <span style='color:Green'> - Plot the 3D points coloured according to the **error**. </span> - What is this parameter? Can you extract any conclusions from the visualization?"
   ]
  },
  {
   "cell_type": "code",
   "execution_count": null,
   "id": "cfb29f94-1864-4e21-b534-7eb681dd9057",
   "metadata": {},
   "outputs": [],
   "source": [
    "### TO DO 2.2"
   ]
  },
  {
   "cell_type": "markdown",
   "id": "dbe177d5-893b-41b4-aa1c-6d6fb06b54b7",
   "metadata": {},
   "source": [
    "## 2.3 Plot the 3D points that correspond to a keypoint in the first image. Also plot the image with the keypoints (1.0)\n"
   ]
  },
  {
   "cell_type": "code",
   "execution_count": null,
   "id": "1888156a-c5f5-4695-a75b-2883f1a7c8b5",
   "metadata": {},
   "outputs": [],
   "source": [
    "### TO DO 2.3"
   ]
  },
  {
   "cell_type": "markdown",
   "id": "e117ea99-bc47-41f6-8b14-a42213ee0482",
   "metadata": {},
   "source": [
    "## 2.4 Create a visualization for the number of matches between all images. (1.0)\n",
    "For example: https://seaborn.pydata.org/generated/seaborn.heatmap.html"
   ]
  },
  {
   "cell_type": "code",
   "execution_count": null,
   "id": "13fba504-a871-4287-9833-46aa1c883637",
   "metadata": {},
   "outputs": [],
   "source": [
    "### TO DO 2.4"
   ]
  },
  {
   "cell_type": "markdown",
   "id": "1ab06d62-e966-439e-87d7-5d7ba973bca1",
   "metadata": {},
   "source": [
    "## 2.5 Visualize the keypoints and matches between the two images used in lab 3 using Colmap, how it compares to the results from lab 3? (1.0)\n",
    "#### <span style='color:Green'> You can use the GUI to get the keypoints and matches and then visualize it here, following the same style as in lab 3 to get comparable results. </span>"
   ]
  },
  {
   "cell_type": "code",
   "execution_count": null,
   "id": "f50cc03b-672c-491c-bd61-e40bcc757f43",
   "metadata": {},
   "outputs": [],
   "source": [
    "### TO DO 2.5"
   ]
  },
  {
   "cell_type": "markdown",
   "id": "244a4a42-5c40-4983-af8a-2c0ef286ce5d",
   "metadata": {},
   "source": [
    "## 2.6 Triangulate and visualize the 3D points from the keypoints extracted using Colmap on the two images used in lab 3, how it compares to the results from lab 3? (1.0) \n",
    "#### <span style='color:Green'> - Use the triangulation from lab 3 to the get the 3D points and visualize them following the same style. </span>"
   ]
  },
  {
   "cell_type": "code",
   "execution_count": null,
   "id": "5abc66ad-ab36-4192-b93b-8523adfb3620",
   "metadata": {},
   "outputs": [],
   "source": [
    "### TO DO 2.6"
   ]
  },
  {
   "cell_type": "markdown",
   "id": "10eacbca-842d-4d9e-85bd-efc35c5dd15a",
   "metadata": {},
   "source": [
    "## 2.7 Visualize the sparse reconstruction using the 2 images from lab 3, and the complete CASTLE dataset. Comment on the differences between techniques and number of images used. (1.0)\n",
    "#### <span style='color:Green'> - Use the reconstruction from Colmap to the get the 3D points and visualize them following the same style, using two images and the complete dataset. </span>"
   ]
  },
  {
   "cell_type": "code",
   "execution_count": null,
   "id": "4b9504a3-dcbf-4b2b-9ff6-71c5a4584742",
   "metadata": {},
   "outputs": [],
   "source": [
    "### TO DO 2.7"
   ]
  }
 ],
 "metadata": {
  "kernelspec": {
   "display_name": "Python 3",
   "language": "python",
   "name": "python3"
  },
  "language_info": {
   "codemirror_mode": {
    "name": "ipython",
    "version": 3
   },
   "file_extension": ".py",
   "mimetype": "text/x-python",
   "name": "python",
   "nbconvert_exporter": "python",
   "pygments_lexer": "ipython3",
   "version": "3.11.3"
  }
 },
 "nbformat": 4,
 "nbformat_minor": 5
}
